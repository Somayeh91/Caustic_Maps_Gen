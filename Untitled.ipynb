{
 "cells": [
  {
   "cell_type": "code",
   "execution_count": 1,
   "metadata": {},
   "outputs": [],
   "source": [
    "import pandas as pd\n",
    "import matplotlib.pyplot as plt\n",
    "import numpy as np"
   ]
  },
  {
   "cell_type": "code",
   "execution_count": 2,
   "metadata": {},
   "outputs": [],
   "source": [
    "df1 = pd.read_csv('all_maps_meta.csv', index_col=0)"
   ]
  },
  {
   "cell_type": "code",
   "execution_count": 12,
   "metadata": {},
   "outputs": [],
   "source": [
    "df2 = pd.read_csv('all_maps_kgs.csv', index_col=0)"
   ]
  },
  {
   "cell_type": "code",
   "execution_count": 3,
   "metadata": {},
   "outputs": [],
   "source": [
    "dff = pd.read_csv('maps_selected_kappa_equal_gamma.csv', index_col=0)"
   ]
  },
  {
   "cell_type": "code",
   "execution_count": 15,
   "metadata": {},
   "outputs": [
    {
     "data": {
      "text/plain": [
       "-2.3928702210848902"
      ]
     },
     "execution_count": 15,
     "metadata": {},
     "output_type": "execute_result"
    }
   ],
   "source": [
    "np.min(np.log10(df1.min_mag[df1.min_mag> 0.0]))"
   ]
  },
  {
   "cell_type": "code",
   "execution_count": 6,
   "metadata": {},
   "outputs": [],
   "source": [
    "dfff = pd.merge(dff, df, on='ID')"
   ]
  },
  {
   "cell_type": "code",
   "execution_count": 14,
   "metadata": {},
   "outputs": [],
   "source": [
    "df3 = pd.merge(df1, df2, on='ID')"
   ]
  },
  {
   "cell_type": "code",
   "execution_count": 16,
   "metadata": {},
   "outputs": [],
   "source": [
    "remove_cols = [col for col in df3.columns if 'Unnamed' in col]\n",
    "df3.drop(remove_cols, axis='columns', inplace=True)"
   ]
  },
  {
   "cell_type": "code",
   "execution_count": 17,
   "metadata": {},
   "outputs": [],
   "source": [
    "df3.to_csv('all_maps_meta_kgs.csv')"
   ]
  },
  {
   "cell_type": "code",
   "execution_count": 14,
   "metadata": {},
   "outputs": [],
   "source": [
    "remove_cols = [col for col in dff.columns if 'Unnamed' in col]\n",
    "dff.drop(remove_cols, axis='columns', inplace=True)"
   ]
  },
  {
   "cell_type": "code",
   "execution_count": 16,
   "metadata": {},
   "outputs": [],
   "source": [
    "dff.to_csv('maps_selected_kappa_equal_gamma.csv')"
   ]
  },
  {
   "cell_type": "code",
   "execution_count": 30,
   "metadata": {},
   "outputs": [],
   "source": [
    "const = df['mag_avg']/df['ray_avg']\n",
    "df['min_mag'] = np.abs(df['min']*const)\n",
    "df['max_mag'] = np.abs(df['max']*const)"
   ]
  },
  {
   "cell_type": "code",
   "execution_count": 33,
   "metadata": {},
   "outputs": [
    {
     "data": {
      "text/html": [
       "<div>\n",
       "<style scoped>\n",
       "    .dataframe tbody tr th:only-of-type {\n",
       "        vertical-align: middle;\n",
       "    }\n",
       "\n",
       "    .dataframe tbody tr th {\n",
       "        vertical-align: top;\n",
       "    }\n",
       "\n",
       "    .dataframe thead th {\n",
       "        text-align: right;\n",
       "    }\n",
       "</style>\n",
       "<table border=\"1\" class=\"dataframe\">\n",
       "  <thead>\n",
       "    <tr style=\"text-align: right;\">\n",
       "      <th></th>\n",
       "      <th>Unnamed: 0</th>\n",
       "      <th>Unnamed: 0.1</th>\n",
       "      <th>ID</th>\n",
       "      <th>min</th>\n",
       "      <th>max</th>\n",
       "      <th>mag_avg</th>\n",
       "      <th>ray_avg</th>\n",
       "      <th>min_mag</th>\n",
       "      <th>max_mag</th>\n",
       "      <th>const</th>\n",
       "    </tr>\n",
       "  </thead>\n",
       "  <tbody>\n",
       "    <tr>\n",
       "      <th>count</th>\n",
       "      <td>12342.000000</td>\n",
       "      <td>12342.000000</td>\n",
       "      <td>12342.000000</td>\n",
       "      <td>12342.000000</td>\n",
       "      <td>12342.000000</td>\n",
       "      <td>12342.000000</td>\n",
       "      <td>12342.000000</td>\n",
       "      <td>12342.000000</td>\n",
       "      <td>12342.000000</td>\n",
       "      <td>12342.000000</td>\n",
       "    </tr>\n",
       "    <tr>\n",
       "      <th>mean</th>\n",
       "      <td>6170.500000</td>\n",
       "      <td>6170.500000</td>\n",
       "      <td>36076.924323</td>\n",
       "      <td>80.490358</td>\n",
       "      <td>109409.644304</td>\n",
       "      <td>0.034991</td>\n",
       "      <td>456.726942</td>\n",
       "      <td>0.912756</td>\n",
       "      <td>632.691395</td>\n",
       "      <td>0.014280</td>\n",
       "    </tr>\n",
       "    <tr>\n",
       "      <th>std</th>\n",
       "      <td>3562.972846</td>\n",
       "      <td>3562.972846</td>\n",
       "      <td>15654.667755</td>\n",
       "      <td>77.362744</td>\n",
       "      <td>110617.102592</td>\n",
       "      <td>24.490653</td>\n",
       "      <td>24.757204</td>\n",
       "      <td>3.892780</td>\n",
       "      <td>2312.218899</td>\n",
       "      <td>0.052401</td>\n",
       "    </tr>\n",
       "    <tr>\n",
       "      <th>min</th>\n",
       "      <td>0.000000</td>\n",
       "      <td>0.000000</td>\n",
       "      <td>7073.000000</td>\n",
       "      <td>0.000000</td>\n",
       "      <td>575.000000</td>\n",
       "      <td>-434.094000</td>\n",
       "      <td>297.812000</td>\n",
       "      <td>0.000000</td>\n",
       "      <td>0.443196</td>\n",
       "      <td>0.000754</td>\n",
       "    </tr>\n",
       "    <tr>\n",
       "      <th>25%</th>\n",
       "      <td>3085.250000</td>\n",
       "      <td>3085.250000</td>\n",
       "      <td>23925.250000</td>\n",
       "      <td>34.000000</td>\n",
       "      <td>42628.500000</td>\n",
       "      <td>-1.853305</td>\n",
       "      <td>444.665250</td>\n",
       "      <td>0.072875</td>\n",
       "      <td>176.899848</td>\n",
       "      <td>0.001512</td>\n",
       "    </tr>\n",
       "    <tr>\n",
       "      <th>50%</th>\n",
       "      <td>6170.500000</td>\n",
       "      <td>6170.500000</td>\n",
       "      <td>43871.500000</td>\n",
       "      <td>53.000000</td>\n",
       "      <td>83974.000000</td>\n",
       "      <td>-0.687698</td>\n",
       "      <td>457.916000</td>\n",
       "      <td>0.163417</td>\n",
       "      <td>294.909553</td>\n",
       "      <td>0.003527</td>\n",
       "    </tr>\n",
       "    <tr>\n",
       "      <th>75%</th>\n",
       "      <td>9255.750000</td>\n",
       "      <td>9255.750000</td>\n",
       "      <td>46959.750000</td>\n",
       "      <td>89.000000</td>\n",
       "      <td>137520.000000</td>\n",
       "      <td>1.094840</td>\n",
       "      <td>469.458750</td>\n",
       "      <td>0.820860</td>\n",
       "      <td>534.983347</td>\n",
       "      <td>0.010013</td>\n",
       "    </tr>\n",
       "    <tr>\n",
       "      <th>max</th>\n",
       "      <td>12341.000000</td>\n",
       "      <td>12341.000000</td>\n",
       "      <td>50327.000000</td>\n",
       "      <td>352.000000</td>\n",
       "      <td>998878.000000</td>\n",
       "      <td>424.448000</td>\n",
       "      <td>575.809000</td>\n",
       "      <td>205.582041</td>\n",
       "      <td>126336.161160</td>\n",
       "      <td>0.871113</td>\n",
       "    </tr>\n",
       "  </tbody>\n",
       "</table>\n",
       "</div>"
      ],
      "text/plain": [
       "         Unnamed: 0  Unnamed: 0.1            ID           min            max  \\\n",
       "count  12342.000000  12342.000000  12342.000000  12342.000000   12342.000000   \n",
       "mean    6170.500000   6170.500000  36076.924323     80.490358  109409.644304   \n",
       "std     3562.972846   3562.972846  15654.667755     77.362744  110617.102592   \n",
       "min        0.000000      0.000000   7073.000000      0.000000     575.000000   \n",
       "25%     3085.250000   3085.250000  23925.250000     34.000000   42628.500000   \n",
       "50%     6170.500000   6170.500000  43871.500000     53.000000   83974.000000   \n",
       "75%     9255.750000   9255.750000  46959.750000     89.000000  137520.000000   \n",
       "max    12341.000000  12341.000000  50327.000000    352.000000  998878.000000   \n",
       "\n",
       "            mag_avg       ray_avg       min_mag        max_mag         const  \n",
       "count  12342.000000  12342.000000  12342.000000   12342.000000  12342.000000  \n",
       "mean       0.034991    456.726942      0.912756     632.691395      0.014280  \n",
       "std       24.490653     24.757204      3.892780    2312.218899      0.052401  \n",
       "min     -434.094000    297.812000      0.000000       0.443196      0.000754  \n",
       "25%       -1.853305    444.665250      0.072875     176.899848      0.001512  \n",
       "50%       -0.687698    457.916000      0.163417     294.909553      0.003527  \n",
       "75%        1.094840    469.458750      0.820860     534.983347      0.010013  \n",
       "max      424.448000    575.809000    205.582041  126336.161160      0.871113  "
      ]
     },
     "execution_count": 33,
     "metadata": {},
     "output_type": "execute_result"
    }
   ],
   "source": [
    "df.describe()"
   ]
  },
  {
   "cell_type": "code",
   "execution_count": 32,
   "metadata": {},
   "outputs": [],
   "source": [
    "df['const'] = np.abs(df['mag_avg']/df['ray_avg'])"
   ]
  },
  {
   "cell_type": "code",
   "execution_count": 36,
   "metadata": {},
   "outputs": [
    {
     "data": {
      "text/plain": [
       "0.004"
      ]
     },
     "execution_count": 36,
     "metadata": {},
     "output_type": "execute_result"
    }
   ],
   "source": [
    "np.min(df['min_mag']+0.004)"
   ]
  },
  {
   "cell_type": "code",
   "execution_count": 35,
   "metadata": {},
   "outputs": [
    {
     "data": {
      "text/plain": [
       "-2.3979400086720375"
      ]
     },
     "execution_count": 35,
     "metadata": {},
     "output_type": "execute_result"
    }
   ],
   "source": [
    "np.min(np.log10(df['min']+0.004))"
   ]
  },
  {
   "cell_type": "code",
   "execution_count": 24,
   "metadata": {},
   "outputs": [
    {
     "data": {
      "text/plain": [
       "-2.3928702210848902"
      ]
     },
     "execution_count": 24,
     "metadata": {},
     "output_type": "execute_result"
    }
   ],
   "source": [
    "np.log10(np.min(df[df['min'] != 0]['min_mag']))"
   ]
  },
  {
   "cell_type": "code",
   "execution_count": 38,
   "metadata": {},
   "outputs": [
    {
     "data": {
      "text/plain": [
       "5.101527690072907"
      ]
     },
     "execution_count": 38,
     "metadata": {},
     "output_type": "execute_result"
    }
   ],
   "source": [
    "np.log10(np.max(df['max_mag'])+0.004)"
   ]
  },
  {
   "cell_type": "code",
   "execution_count": 39,
   "metadata": {},
   "outputs": [],
   "source": [
    "df.to_csv('all_maps_meta.csv')"
   ]
  },
  {
   "cell_type": "code",
   "execution_count": null,
   "metadata": {},
   "outputs": [],
   "source": []
  }
 ],
 "metadata": {
  "kernelspec": {
   "display_name": "Python 2",
   "language": "python",
   "name": "python2"
  },
  "language_info": {
   "codemirror_mode": {
    "name": "ipython",
    "version": 2
   },
   "file_extension": ".py",
   "mimetype": "text/x-python",
   "name": "python",
   "nbconvert_exporter": "python",
   "pygments_lexer": "ipython2",
   "version": "2.7.14"
  }
 },
 "nbformat": 4,
 "nbformat_minor": 5
}
